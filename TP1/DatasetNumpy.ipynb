{
  "cells": [
    {
      "attachments": {},
      "cell_type": "markdown",
      "metadata": {
        "id": "lDD_rqa8Lvdt"
      },
      "source": [
        "Trabalho realizado por: Bárbara Freixo, PG49169\n",
        "\n",
        "Esta implementação define uma classe Dataset para manipular dados armazenados em arquivos CSV/TSV. Ela fornece funcionalidades para ler e escrever arquivos CSV/TSV, descrever o conjunto de dados e encontrar e substituir missing values. Temos então os seguintes métodos:\n",
        "\n",
        "* __init__: Inicializa a classe Dataset com a matriz de entrada X, o vetor de saída y, os nomes das características (features), o nome da variável alvo (label) e um dicionário para armazenar os valores discretos das características discretas.\n",
        "* get_X: Retorna a matriz X.\n",
        "* get_y: Retorna o vetor y.\n",
        "* get_feature_names: Retorna os nomes das características.\n",
        "* get_label_name: Retorna o nome da variável alvo (label).\n",
        "* set_X: Define a matriz X.\n",
        "* set_y: Define o vetor y.\n",
        "* set_feature_names: Define os nomes das características.\n",
        "* set_label_name: Define o nome da variável alvo (label).\n",
        "* set_discrete_values: Define os valores discretos.\n",
        "* get_discrete_values: Retorna os valores discretos.\n",
        "* read_csv: Lê um arquivo CSV/TSV e armazena os dados na matriz X e no vetor y. Os nomes das características e da variável alvo são armazenados, se houver um cabeçalho no arquivo.\n",
        "\n",
        "* write_csv: Escreve os dados do objeto Dataset num arquivo CSV.\n",
        "\n",
        "* describe: Calcula e retorna a média, desvio padrão, valor mínimo e valor máximo de cada característica na matriz X.\n",
        "\n",
        "* find_missing_values: Retorna uma matriz booleana indicando a posição dos missing values na matriz X.\n",
        "\n",
        "* count_missing_values: Conta e retorna o número de missing values em cada coluna da matriz X.\n",
        "\n",
        "* replace_missing_values: Substitui os missing values na matriz X por uma constante. A constante pode ser a média, mediana, moda ou um valor específico. Para características discretas, a moda é usada como padrão."
      ]
    },
    {
      "cell_type": "code",
      "execution_count": 3,
      "metadata": {
        "id": "Mgn0C2NY8wOy"
      },
      "outputs": [],
      "source": [
        "import numpy as np\n",
        "import csv\n",
        "from scipy.stats import mode\n",
        "\n",
        "class Dataset:\n",
        "    def __init__(self, X=None, y=None, feature_names=None, label_name=None):\n",
        "        \"\"\"\n",
        "        Inicializa a classe Dataset com a matriz de entrada X, o vetor de saída y,\n",
        "        os nomes das características (features), o nome da variável alvo (label) e\n",
        "        um dicionário para armazenar os valores discretos das características discretas.\n",
        "        \"\"\"\n",
        "        self.X = X\n",
        "        self.y = y\n",
        "        self.feature_names = feature_names\n",
        "        self.label_name = label_name\n",
        "        self.discrete_values = {}\n",
        "\n",
        "    def get_X(self):\n",
        "        \"\"\"Retorna a matriz X.\"\"\"\n",
        "        return self.X\n",
        "\n",
        "    def get_y(self):\n",
        "        \"\"\"Retorna o vetor y.\"\"\"\n",
        "        return self.y\n",
        "\n",
        "    def get_feature_names(self):\n",
        "        \"\"\"Retorna os nomes das características.\"\"\"\n",
        "        return self.feature_names\n",
        "\n",
        "    def get_label_name(self):\n",
        "        \"\"\"Retorna o nome da variável alvo (label).\"\"\"\n",
        "        return self.label_name\n",
        "\n",
        "    def set_X(self, X):\n",
        "        \"\"\"Define a matriz X.\"\"\"\n",
        "        self.X = X\n",
        "\n",
        "    def set_y(self, y):\n",
        "        \"\"\"Define o vetor y.\"\"\"\n",
        "        self.y = y\n",
        "\n",
        "    def set_feature_names(self, feature_names):\n",
        "        \"\"\"Define os nomes das características.\"\"\"\n",
        "        self.feature_names = feature_names\n",
        "\n",
        "    def set_label_name(self, label_name):\n",
        "        \"\"\"Define o nome da variável alvo (label).\"\"\"\n",
        "        self.label_name = label_name\n",
        "\n",
        "    def set_discrete_values(self, discrete_values):\n",
        "        \"\"\"Define os valores discretos.\"\"\"\n",
        "        self.discrete_values = discrete_values\n",
        "\n",
        "    def get_discrete_values(self):\n",
        "        \"\"\"Retorna os valores discretos.\"\"\"\n",
        "        return self.discrete_values\n",
        "\n",
        "    def read_csv(self, filepath, delimiter=',', has_header=True):\n",
        "        \"\"\"\n",
        "        Lê um arquivo CSV/TSV e armazena os dados na matriz X e no vetor y.\n",
        "        Os nomes das características e da variável alvo são armazenados, se houver\n",
        "        um cabeçalho no arquivo.\n",
        "        \"\"\"\n",
        "        with open(filepath, 'r') as file:\n",
        "            reader = csv.reader(file, delimiter=delimiter)\n",
        "            if has_header:\n",
        "                header = next(reader)\n",
        "                self.feature_names = header[:-1]\n",
        "                self.label_name = header[-1]\n",
        "            data = list(reader)\n",
        "        data = np.array(data, dtype=object)\n",
        "        self.X = data[:, :-1].astype(np.float64)\n",
        "        self.y = np.round(data[:, -1].astype(np.float64)).astype(np.int64)\n",
        "\n",
        "    def write_csv(self, filepath, delimiter=','):\n",
        "        \"\"\"\n",
        "        Escreve os dados do objeto Dataset num arquivo CSV/TSV.\n",
        "        \"\"\"\n",
        "        data = np.column_stack((self.X, self.y))\n",
        "        with open(filepath, 'w') as file:\n",
        "            writer = csv.writer(file, delimiter=delimiter)\n",
        "            if self.feature_names is not None and self.label_name is not None:\n",
        "                writer.writerow(self.feature_names + [self.label_name])\n",
        "            writer.writerows(data)\n",
        "\n",
        "    def describe(self):\n",
        "        \"\"\"\n",
        "        Calcula e retorna a média, desvio padrão, valor mínimo e valor máximo de cada\n",
        "        característica na matriz X.\n",
        "        \"\"\"\n",
        "        means = np.mean(self.X.astype(np.float64), axis=0)\n",
        "        stds = np.std(self.X.astype(np.float64), axis=0)\n",
        "        min_values = np.min(self.X.astype(np.float64), axis=0)\n",
        "        max_values = np.max(self.X.astype(np.float64), axis=0)\n",
        "\n",
        "        return means, stds, min_values, max_values\n",
        "\n",
        "    def find_missing_values(self):\n",
        "        \"\"\"\n",
        "        Retorna uma matriz booleana indicando a posição dos missing values\n",
        "        na matriz X.\n",
        "        \"\"\"\n",
        "        return np.isnan(self.X.astype(np.float64))\n",
        "\n",
        "    def count_missing_values(self):\n",
        "        \"\"\"\n",
        "        Conta e retorna o número de missing values em cada coluna da matriz X.\n",
        "        \"\"\"\n",
        "        return np.sum(np.isnan(self.X.astype(np.float64)), axis=0)\n",
        "\n",
        "    def replace_missing_values(self, constant='mean'):\n",
        "        \"\"\"\n",
        "        Substitui os missing values na matriz X por uma constante. A constante\n",
        "        pode ser a média, mediana, moda ou um valor específico. Para características\n",
        "        discretas, a moda é usada como padrão.\n",
        "        \"\"\"\n",
        "        missing = self.find_missing_values()\n",
        "        for i in range(self.X.shape[1]):\n",
        "            if constant == 'mean':\n",
        "                if i in self.discrete_values:\n",
        "                    replacement = mode(self.X[:, i])[0][0]\n",
        "                else:\n",
        "                    replacement = np.nanmean(self.X[:, i].astype(np.float64))\n",
        "            elif constant == 'median':\n",
        "                replacement = np.nanmedian(self.X[:, i].astype(np.float64))\n",
        "            elif constant == 'mode':\n",
        "                replacement = mode(self.X[:, i])[0][0]\n",
        "            else:\n",
        "                replacement = constant\n",
        "            self.X[:, i][missing[:, i]] = replacement\n",
        "\n"
      ]
    },
    {
      "cell_type": "markdown",
      "metadata": {
        "id": "Wdh49IYHQT9h"
      },
      "source": [
        "# Testes e exemplos para o algoritmo implementado"
      ]
    },
    {
      "cell_type": "markdown",
      "metadata": {
        "id": "hboxzimgQkMY"
      },
      "source": [
        "## Exemplo de uso do código"
      ]
    },
    {
      "cell_type": "markdown",
      "metadata": {
        "id": "o4PM35nnROXa"
      },
      "source": [
        "Esta implementação demonstra como manipular e analisar um conjunto de dados utilizando a classe Dataset, além de mostrar como salvar e carregar os dados em formato CSV."
      ]
    },
    {
      "cell_type": "code",
      "execution_count": 4,
      "metadata": {
        "colab": {
          "base_uri": "https://localhost:8080/"
        },
        "id": "RFoAMIxY-wkw",
        "outputId": "c92ef493-3c78-49de-9c67-9e4e18bea76c"
      },
      "outputs": [
        {
          "name": "stdout",
          "output_type": "stream",
          "text": [
            "X: [[1.423e+01 1.710e+00 2.430e+00 ... 1.040e+00 3.920e+00 1.065e+03]\n",
            " [1.320e+01 1.780e+00 2.140e+00 ... 1.050e+00 3.400e+00 1.050e+03]\n",
            " [1.316e+01 2.360e+00 2.670e+00 ... 1.030e+00 3.170e+00 1.185e+03]\n",
            " ...\n",
            " [1.327e+01 4.280e+00 2.260e+00 ... 5.900e-01 1.560e+00 8.350e+02]\n",
            " [1.317e+01 2.590e+00 2.370e+00 ... 6.000e-01 1.620e+00 8.400e+02]\n",
            " [1.413e+01 4.100e+00 2.740e+00 ... 6.100e-01 1.600e+00 5.600e+02]]\n",
            "y: [0 0 0 0 0 0 0 0 0 0 0 0 0 0 0 0 0 0 0 0 0 0 0 0 0 0 0 0 0 0 0 0 0 0 0 0 0\n",
            " 0 0 0 0 0 0 0 0 0 0 0 0 0 0 0 0 0 0 0 0 0 0 1 1 1 1 1 1 1 1 1 1 1 1 1 1 1\n",
            " 1 1 1 1 1 1 1 1 1 1 1 1 1 1 1 1 1 1 1 1 1 1 1 1 1 1 1 1 1 1 1 1 1 1 1 1 1\n",
            " 1 1 1 1 1 1 1 1 1 1 1 1 1 1 1 1 1 1 1 2 2 2 2 2 2 2 2 2 2 2 2 2 2 2 2 2 2\n",
            " 2 2 2 2 2 2 2 2 2 2 2 2 2 2 2 2 2 2 2 2 2 2 2 2 2 2 2 2 2 2]\n",
            "Feature names: ['alcohol', 'malic_acid', 'ash', 'alcalinity_of_ash', 'magnesium', 'total_phenols', 'flavanoids', 'nonflavanoid_phenols', 'proanthocyanins', 'color_intensity', 'hue', 'od280/od315_of_diluted_wines', 'proline']\n",
            "Label name: wine_class\n",
            "Means: [1.30006180e+01 2.33634831e+00 2.36651685e+00 1.94949438e+01\n",
            " 9.97415730e+01 2.29511236e+00 2.02926966e+00 3.61853933e-01\n",
            " 1.59089888e+00 5.05808988e+00 9.57449438e-01 2.61168539e+00\n",
            " 7.46893258e+02]\n",
            "Standard deviations: [8.09542915e-01 1.11400363e+00 2.73572294e-01 3.33016976e+00\n",
            " 1.42423077e+01 6.24090564e-01 9.96048950e-01 1.24103260e-01\n",
            " 5.70748849e-01 2.31176466e+00 2.27928607e-01 7.07993265e-01\n",
            " 3.14021657e+02]\n",
            "Minimum values: [1.103e+01 7.400e-01 1.360e+00 1.060e+01 7.000e+01 9.800e-01 3.400e-01\n",
            " 1.300e-01 4.100e-01 1.280e+00 4.800e-01 1.270e+00 2.780e+02]\n",
            "Maximum values: [1.483e+01 5.800e+00 3.230e+00 3.000e+01 1.620e+02 3.880e+00 5.080e+00\n",
            " 6.600e-01 3.580e+00 1.300e+01 1.710e+00 4.000e+00 1.680e+03]\n",
            "Missing values: [[False False False ... False False False]\n",
            " [False False False ... False False False]\n",
            " [False False False ... False False False]\n",
            " ...\n",
            " [False False False ... False False False]\n",
            " [False False False ... False False False]\n",
            " [False False False ... False False False]]\n",
            "Missing count: [0 0 0 0 0 0 0 0 0 0 0 0 0]\n"
          ]
        }
      ],
      "source": [
        "from sklearn.datasets import load_wine\n",
        "\n",
        "# Carrega o conjunto de dados Wine\n",
        "wine = load_wine()\n",
        "\n",
        "# Cria uma instância da classe Dataset e preenche os atributos com os dados do Wine\n",
        "dataset = Dataset(X=wine.data, y=wine.target, feature_names=wine.feature_names, label_name='wine_class')\n",
        "\n",
        "# Imprime as variáveis independentes (X), a variável dependente (y), os nomes das características e o nome do rótulo\n",
        "print(\"X:\", dataset.get_X())\n",
        "print(\"y:\", dataset.get_y())\n",
        "print(\"Feature names:\", dataset.get_feature_names())\n",
        "print(\"Label name:\", dataset.get_label_name())\n",
        "\n",
        "# Calcula e imprime as estatísticas do conjunto de dados\n",
        "means, stds, min_values, max_values = dataset.describe()\n",
        "print(\"Means:\", means)\n",
        "print(\"Standard deviations:\", stds)\n",
        "print(\"Minimum values:\", min_values)\n",
        "print(\"Maximum values:\", max_values)\n",
        "\n",
        "# Identifica e conta os missing values\n",
        "missing_values = dataset.find_missing_values()\n",
        "missing_count = dataset.count_missing_values()\n",
        "print(\"Missing values:\", missing_values)\n",
        "print(\"Missing count:\", missing_count)\n",
        "\n",
        "# Escreve o conjunto de dados num arquivo CSV\n",
        "dataset.write_csv(\"wine.csv\")\n",
        "\n",
        "# Remove o arquivo CSV após a execução do exemplo\n",
        "import os\n",
        "os.remove(\"wine.csv\")"
      ]
    },
    {
      "cell_type": "markdown",
      "metadata": {
        "id": "lYVkJdAsQ_YY"
      },
      "source": [
        "## Testes \"Unittest\""
      ]
    },
    {
      "cell_type": "markdown",
      "metadata": {
        "id": "tuiCGc2BRAc3"
      },
      "source": [
        "Foi realizado um teste utilizando o unittest para testar a implementação do Dataset. Temos então o seguinte teste:"
      ]
    },
    {
      "cell_type": "markdown",
      "metadata": {
        "id": "ie6Gh1gSTbsB"
      },
      "source": [
        "Estes testes cobrem funções como getters e setters, leitura e escrita de arquivos CSV, descrição e manipulação de missing values."
      ]
    },
    {
      "cell_type": "code",
      "execution_count": 6,
      "metadata": {},
      "outputs": [
        {
          "name": "stderr",
          "output_type": "stream",
          "text": [
            ".......\n",
            "----------------------------------------------------------------------\n",
            "Ran 7 tests in 0.039s\n",
            "\n",
            "OK\n"
          ]
        }
      ],
      "source": [
        "import unittest\n",
        "import numpy as np\n",
        "from sklearn.datasets import load_iris\n",
        "\n",
        "class TestDataset(unittest.TestCase):\n",
        "    \"\"\"\n",
        "    Classe de teste para a classe Dataset.\n",
        "    \"\"\"\n",
        "\n",
        "    def setUp(self):\n",
        "        \"\"\"\n",
        "        Carrega o conjunto de dados Iris e cria uma instância da classe Dataset\n",
        "        com os dados e rótulos do conjunto de dados Iris.\n",
        "        \"\"\"\n",
        "        self.iris = load_iris()\n",
        "        self.dataset = Dataset(X=self.iris.data, y=self.iris.target,\n",
        "                               feature_names=self.iris.feature_names,\n",
        "                               label_name='species')\n",
        "\n",
        "    def test_get_X(self):\n",
        "        \"\"\"Testa o método get_X.\"\"\"\n",
        "        self.assertTrue(np.array_equal(self.dataset.get_X(), self.iris.data))\n",
        "\n",
        "    def test_get_y(self):\n",
        "        \"\"\"Testa o método get_y.\"\"\"\n",
        "        self.assertTrue(np.array_equal(self.dataset.get_y(), self.iris.target))\n",
        "\n",
        "    def test_get_feature_names(self):\n",
        "        \"\"\"Testa o método get_feature_names.\"\"\"\n",
        "        self.assertEqual(self.dataset.get_feature_names(), self.iris.feature_names)\n",
        "\n",
        "    def test_get_label_name(self):\n",
        "        \"\"\"Testa o método get_label_name.\"\"\"\n",
        "        self.assertEqual(self.dataset.get_label_name(), 'species')\n",
        "\n",
        "    def test_describe(self):\n",
        "        \"\"\"Testa o método describe.\"\"\"\n",
        "        means, stds, min_values, max_values = self.dataset.describe()\n",
        "\n",
        "        self.assertTrue(np.allclose(means, np.mean(self.iris.data, axis=0)))\n",
        "        self.assertTrue(np.allclose(stds, np.std(self.iris.data, axis=0)))\n",
        "        self.assertTrue(np.allclose(min_values, np.min(self.iris.data, axis=0)))\n",
        "        self.assertTrue(np.allclose(max_values, np.max(self.iris.data, axis=0)))\n",
        "\n",
        "    def test_missing_values(self):\n",
        "        \"\"\"Testa os métodos find_missing_values e count_missing_values.\"\"\"\n",
        "        missing_values = self.dataset.find_missing_values()\n",
        "        missing_count = self.dataset.count_missing_values()\n",
        "\n",
        "        self.assertEqual(missing_values.shape, self.iris.data.shape)\n",
        "        self.assertEqual(missing_count.shape, (self.iris.data.shape[1],))\n",
        "        self.assertEqual(np.sum(missing_values), 0)\n",
        "        self.assertEqual(np.sum(missing_count), 0)\n",
        "\n",
        "    def test_replace_missing_values(self):\n",
        "        \"\"\"\n",
        "        Testa o método replace_missing_values, adicionando alguns missing values\n",
        "        ao conjunto de dados e verifica se eles são substituídos corretamente.\n",
        "        \"\"\"\n",
        "\n",
        "        data_with_missing = self.iris.data.copy()\n",
        "        data_with_missing[0, 0] = np.nan\n",
        "        data_with_missing[1, 1] = np.nan\n",
        "        self.dataset.set_X(data_with_missing)\n",
        "\n",
        "        self.dataset.replace_missing_values(constant='mean')\n",
        "        means = np.nanmean(data_with_missing, axis=0)\n",
        "        self.assertTrue(np.allclose(self.dataset.get_X()[0, 0], means[0]))\n",
        "        self.assertTrue(np.allclose(self.dataset.get_X()[1, 1], means[1]))\n",
        "\n",
        "if __name__ == \"__main__\":\n",
        "    unittest.main(argv=['first-arg-is-ignored'], exit=False)"
      ]
    }
  ],
  "metadata": {
    "colab": {
      "provenance": []
    },
    "kernelspec": {
      "display_name": "Python 3",
      "name": "python3"
    },
    "language_info": {
      "codemirror_mode": {
        "name": "ipython",
        "version": 3
      },
      "file_extension": ".py",
      "mimetype": "text/x-python",
      "name": "python",
      "nbconvert_exporter": "python",
      "pygments_lexer": "ipython3",
      "version": "3.11.2"
    }
  },
  "nbformat": 4,
  "nbformat_minor": 0
}
