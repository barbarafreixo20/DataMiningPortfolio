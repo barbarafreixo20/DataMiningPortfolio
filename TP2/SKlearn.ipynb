{
 "cells": [
  {
   "cell_type": "code",
   "execution_count": 5,
   "metadata": {},
   "outputs": [],
   "source": [
    "import numpy as np\n",
    "import pandas as pd\n",
    "from sklearn.feature_selection import f_regression #Usado como alternativa uma vez que está a dar para importar f_regression(data) de f_regression.ipynb\n",
    "\n",
    "\n",
    "class SelectKBest:\n",
    "    def __init__(self, score_func, k):\n",
    "        \"\"\"\n",
    "        Classe para selecionar as k melhores features com base na pontuação \n",
    "        F e no valor p de uma determinada métrica de pontuação (score_func).\n",
    "\n",
    "        \"\"\"\n",
    "        self.score_func = score_func\n",
    "        self.k = k\n",
    "        self.scores_ = None\n",
    "        self.pvalues_ = None\n",
    "        self.selected_features_ = None\n",
    "\n",
    "    def fit(self, X, y):\n",
    "        \"\"\"\n",
    "        Estima o valor F e o valor p de cada feature usando a função de \n",
    "        pontuação fornecida (score_func).\n",
    "\n",
    "        \"\"\"\n",
    "        self.scores_, self.pvalues_ = self.score_func(X, y)\n",
    "        # Seleciona as k features com valor de p mais baixo\n",
    "        self.selected_features_ = np.argsort(self.pvalues_)[:self.k]\n",
    "        return self\n",
    "\n",
    "    def transform(self, X):\n",
    "        \"\"\"\n",
    "        Seleciona as k features com valor de p mais baixo e retorna as\n",
    "        features correspondentes.\n",
    "\n",
    "        \"\"\"\n",
    "        return X[:, self.selected_features_]\n",
    "\n",
    "    def fit_transform(self, X, y):\n",
    "        \"\"\"\n",
    "        Estima o valor F e o valor p de cada feature usando a função de \n",
    "        pontuação fornecida (score_func) e seleciona as k features com valor \n",
    "        de p mais baixo, retornando as features correspondentes.\n",
    "\n",
    "        \"\"\"\n",
    "        self.fit(X, y)\n",
    "        return self.transform(X)"
   ]
  },
  {
   "cell_type": "code",
   "execution_count": null,
   "metadata": {},
   "outputs": [],
   "source": [
    "# Carregua os dados.\n",
    "data = pd.read_csv('titanic.csv')\n",
    "\n",
    "# Remove linhas com missing values.\n",
    "data = data.dropna()\n",
    "\n",
    "# Converte a feature 'Sexo' numa variável binária.\n",
    "data['Sex'] = np.where(data['Sex'] == 'female', 1, 0)\n",
    "\n",
    "# Define as features e o target\n",
    "X = data[['Pclass', 'Age', 'Sex']].values.astype(float)\n",
    "Y = data['Survived'].values.reshape(-1, 1).astype(float)\n",
    "\n",
    "# Cria um objeto SelectKBest e fit_transform os dados.\n",
    "selector = SelectKBest(score_func=f_regression, k=2)\n",
    "X_new = selector.fit_transform(X, Y)\n",
    "\n",
    "# Mostra as features selecionadas\n",
    "print(X_new)"
   ]
  }
 ],
 "metadata": {
  "kernelspec": {
   "display_name": "base",
   "language": "python",
   "name": "python3"
  },
  "language_info": {
   "codemirror_mode": {
    "name": "ipython",
    "version": 3
   },
   "file_extension": ".py",
   "mimetype": "text/x-python",
   "name": "python",
   "nbconvert_exporter": "python",
   "pygments_lexer": "ipython3",
   "version": "3.9.13"
  },
  "orig_nbformat": 4
 },
 "nbformat": 4,
 "nbformat_minor": 2
}
