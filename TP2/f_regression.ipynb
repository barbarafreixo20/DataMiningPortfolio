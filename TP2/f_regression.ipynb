{
 "cells": [
  {
   "cell_type": "code",
   "execution_count": 2,
   "metadata": {},
   "outputs": [],
   "source": [
    "import numpy as np\n",
    "import pandas as pd\n",
    "from scipy import stats\n",
    "\n",
    "class Modificar:\n",
    "    def __init__(self, X, Y):\n",
    "        self.X = X\n",
    "        self.Y = Y\n",
    "\n",
    "def f_regression(data):\n",
    "\n",
    "    #Divide os dados em features e targets.\n",
    "    X = data.X\n",
    "    Y = data.Y\n",
    "\n",
    "    #Adiciona uma coluna de 1s ao conjunto de features\n",
    "    X = np.concatenate([X, np.ones((X.shape[0], 1))], axis=1)\n",
    "\n",
    "    #calcula os coeficientes da regressão linear múltipla usando o método dos mínimos quadrados.\n",
    "    coe = np.linalg.inv(X.T.dot(X)).dot(X.T).dot(Y)\n",
    "\n",
    "    #calcula os resíduos (ou erros) da regressão linear.\n",
    "    ypredicted = np.dot(X, coe)\n",
    "    residuos = Y - ypredicted\n",
    "\n",
    "    # calcula a soma dos quadrados totais (sqt) e a soma dos quadrados dos resíduos (sqr) na regressão linear.\n",
    "    sqt = np.sum((Y - np.mean(Y)) ** 2)\n",
    "    sqr = np.sum(residuos ** 2)\n",
    "\n",
    "    # calcula os graus de liberdade da regressão linear.\n",
    "    z = X.shape[0]\n",
    "    q = data.X.shape[1]\n",
    "    reg = q\n",
    "    res = z - q - 1\n",
    "\n",
    "    # Calcula F e p-value\n",
    "    F = (sqt - sqr) / reg\n",
    "    F = F / (sqr / res)\n",
    "    p = 1 - stats.f.cdf(F, reg, res)\n",
    "\n",
    "    return p"
   ]
  },
  {
   "cell_type": "code",
   "execution_count": 3,
   "metadata": {},
   "outputs": [
    {
     "name": "stdout",
     "output_type": "stream",
     "text": [
      "p-value: 5.329070518200751e-15\n"
     ]
    }
   ],
   "source": [
    "# Load the data from a CSV file\n",
    "data = pd.read_csv('titanic.csv')\n",
    "\n",
    "# Drop any rows with missing data\n",
    "data = data.dropna()\n",
    "\n",
    "# Convert the 'Sex' feature to a binary variable\n",
    "data['Sex'] = np.where(data['Sex'] == 'female', 1, 0)\n",
    "\n",
    "# Define the features and target variables\n",
    "X = data[['Pclass', 'Age', 'Sex']].values.astype(float)\n",
    "Y = data['Survived'].values.reshape(-1, 1).astype(float)\n",
    "\n",
    "# Create a Dataset object\n",
    "data = Modificar(X, Y)\n",
    "\n",
    "# Compute the F-value and p-value\n",
    "p_value = f_regression(data)\n",
    "\n",
    "# Print the results\n",
    "print('p-value:', p_value)\n"
   ]
  }
 ],
 "metadata": {
  "kernelspec": {
   "display_name": "base",
   "language": "python",
   "name": "python3"
  },
  "language_info": {
   "codemirror_mode": {
    "name": "ipython",
    "version": 3
   },
   "file_extension": ".py",
   "mimetype": "text/x-python",
   "name": "python",
   "nbconvert_exporter": "python",
   "pygments_lexer": "ipython3",
   "version": "3.9.13"
  },
  "orig_nbformat": 4
 },
 "nbformat": 4,
 "nbformat_minor": 2
}
