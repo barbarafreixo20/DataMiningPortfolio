{
 "cells": [
  {
   "attachments": {},
   "cell_type": "markdown",
   "metadata": {},
   "source": [
    "Trabalho realizado por: Bárbara Freixo, PG49169\n",
    "\n",
    "Esta implementação implementa uma classe \"Modificar\", cujo objetivo é armazenar dados de entrada nos atributos \"X\" e \"Y\". Adicionalmente, é apresentada a função \"f_regressão\", que efetua uma análise de regressão linear múltipla nos dados presentes nos atributos \"X\" e \"Y\" da classe \"Modificar\". Inicialmente, os dados são divididos em duas componentes, sendo elas as \"features\" (X) e as \"targets\" (Y). Posteriormente, é adicionada uma coluna de 1s ao conjunto de \"features\" (X) e é utilizado o método dos mínimos quadrados para calcular os coeficientes da regressão linear múltipla. A função também realiza o cálculo dos resíduos (ou erros) da regressão linear, bem como a soma dos quadrados totais (sqt) e a soma dos quadrados dos resíduos (sqr). Além disso, são determinados os graus de liberdade da regressão linear. Por fim, a função devolve o valor \"p\", que representa o p-value da análise de regressão linear múltipla."
   ]
  },
  {
   "cell_type": "code",
   "execution_count": 1,
   "metadata": {},
   "outputs": [],
   "source": [
    "import numpy as np\n",
    "from scipy import stats\n",
    "\n",
    "class Modificar:\n",
    "    def __init__(self, X, Y):\n",
    "        self.X = X\n",
    "        self.Y = Y\n",
    "\n",
    "def f_regression(data):\n",
    "\n",
    "    #Divide os dados em features e targets.\n",
    "    X = data.X\n",
    "    Y = data.Y\n",
    "\n",
    "    #Adiciona uma coluna de 1s ao conjunto de features\n",
    "    X = np.concatenate([X, np.ones((X.shape[0], 1))], axis=1)\n",
    "\n",
    "    #calcula os coeficientes da regressão linear múltipla usando o método dos mínimos quadrados.\n",
    "    coe = np.linalg.inv(X.T.dot(X)).dot(X.T).dot(Y)\n",
    "\n",
    "    #calcula os resíduos (ou erros) da regressão linear.\n",
    "    ypredicted = np.dot(X, coe)\n",
    "    residuos = Y - ypredicted\n",
    "\n",
    "    # calcula a soma dos quadrados totais (sqt) e a soma dos quadrados dos resíduos (sqr) na regressão linear.\n",
    "    sqt = np.sum((Y - np.mean(Y)) ** 2)\n",
    "    sqr = np.sum(residuos ** 2)\n",
    "\n",
    "    # calcula os graus de liberdade da regressão linear.\n",
    "    z = X.shape[0]\n",
    "    q = data.X.shape[1]\n",
    "    reg = q\n",
    "    res = z - q - 1\n",
    "\n",
    "    # Calcula F e p-value\n",
    "    F = (sqt - sqr) / reg\n",
    "    F = F / (sqr / res)\n",
    "    p = 1 - stats.f.cdf(F, reg, res)\n",
    "\n",
    "    return p"
   ]
  },
  {
   "attachments": {},
   "cell_type": "markdown",
   "metadata": {},
   "source": [
    "# Testes e exemplos para o algoritmo implementado"
   ]
  },
  {
   "attachments": {},
   "cell_type": "markdown",
   "metadata": {},
   "source": [
    "## Exemplo de uso do código"
   ]
  },
  {
   "attachments": {},
   "cell_type": "markdown",
   "metadata": {},
   "source": [
    "Este exemplo utiliza a função f_regression para calcular o valor p para o conjunto de dados Iris. O valor p ajudará-nos a determinar se existe uma relação linear significativa entre as características e a variável dependente no conjunto de dados."
   ]
  },
  {
   "cell_type": "code",
   "execution_count": 3,
   "metadata": {},
   "outputs": [
    {
     "name": "stdout",
     "output_type": "stream",
     "text": [
      "p-value: 1.1102230246251565e-16\n"
     ]
    }
   ],
   "source": [
    "from sklearn.datasets import load_iris\n",
    "\n",
    "# Carrega o conjunto de dados Iris\n",
    "iris = load_iris()\n",
    "X = iris.data\n",
    "y = iris.target\n",
    "\n",
    "# Cria uma instância da classe Modificar\n",
    "data = Modificar(X, y)\n",
    "\n",
    "# Calcula o valor p com a função f_regression\n",
    "p_value = f_regression(data)\n",
    "\n",
    "print(\"p-value:\", p_value)"
   ]
  },
  {
   "attachments": {},
   "cell_type": "markdown",
   "metadata": {},
   "source": [
    "## Testes \"Unittest\""
   ]
  },
  {
   "attachments": {},
   "cell_type": "markdown",
   "metadata": {},
   "source": [
    "Foi realizado um teste utilizando o unittest para testar a implementação do f_regression. Temos então o seguinte teste:"
   ]
  },
  {
   "cell_type": "code",
   "execution_count": 4,
   "metadata": {},
   "outputs": [
    {
     "name": "stderr",
     "output_type": "stream",
     "text": [
      "..\n",
      "----------------------------------------------------------------------\n",
      "Ran 2 tests in 0.006s\n",
      "\n",
      "OK\n"
     ]
    }
   ],
   "source": [
    "import numpy as np\n",
    "from scipy import stats\n",
    "from sklearn.datasets import load_iris\n",
    "import unittest\n",
    "\n",
    "# Define a classe TestFClassif que herda da classe TestCase do módulo unittest\n",
    "class TestFClassif(unittest.TestCase):\n",
    "\n",
    "    # Define o método test_Modificar que irá testar a classe Modificar\n",
    "    def test_Modificar(self):\n",
    "        # Carrega o conjunto de dados iris\n",
    "        iris = load_iris()\n",
    "        X = iris.data\n",
    "        Y = iris.target\n",
    "\n",
    "        # Cria uma instância da classe Modificar com os dados de X e Y\n",
    "        data = Modificar(X, Y)\n",
    "\n",
    "        # Verifica se as dimensões de X e Y são as esperadas\n",
    "        self.assertEqual(data.X.shape, (150, 4))\n",
    "        self.assertEqual(data.Y.shape, (150,))\n",
    "\n",
    "    # Define o método test_f_regression que irá testar a função f_regression\n",
    "    def test_f_regression(self):\n",
    "        # Carrega o conjunto de dados iris\n",
    "        iris = load_iris()\n",
    "        X = iris.data\n",
    "        Y = iris.target\n",
    "\n",
    "        # Cria uma instância da classe Modificar com os dados de X e Y\n",
    "        data = Modificar(X, Y)\n",
    "\n",
    "        # Chama a função f_regression para calcular o p-value\n",
    "        p = f_regression(data)\n",
    "\n",
    "        # Verifica se as dimensões de p são as esperadas\n",
    "        self.assertEqual(p.shape, ())\n",
    "        self.assertEqual(p.dtype, np.float64)\n",
    "\n",
    "        # Verifica se o p-value é menor que 0.05\n",
    "        self.assertTrue(p < 0.05)\n",
    "\n",
    "# Executa os testes unitários\n",
    "if __name__ == '__main__':\n",
    "    unittest.main(argv=['first-arg-is-ignored'], exit=False)"
   ]
  },
  {
   "attachments": {},
   "cell_type": "markdown",
   "metadata": {},
   "source": [
    "Este teste define uma classe de teste \"TestFClassif\" que herda da classe \"TestCase\" do módulo \"unittest\". Ele contém dois métodos de teste: \"test_Modificar\" e \"test_f_regression\". O método \"test_Modificar\" testa a classe \"Modificar\" verificando se as dimensões dos atributos \"X\" e \"Y\" são as esperadas. O método \"test_f_regression\" testa a função \"f_regression\" verificando as dimensões do p-value e se ele é menor que 0.05. Finalmente, o código executa os testes unitários chamando o método \"main\" da classe \"unittest\"."
   ]
  }
 ],
 "metadata": {
  "kernelspec": {
   "display_name": "base",
   "language": "python",
   "name": "python3"
  },
  "language_info": {
   "codemirror_mode": {
    "name": "ipython",
    "version": 3
   },
   "file_extension": ".py",
   "mimetype": "text/x-python",
   "name": "python",
   "nbconvert_exporter": "python",
   "pygments_lexer": "ipython3",
   "version": "3.11.2"
  },
  "orig_nbformat": 4
 },
 "nbformat": 4,
 "nbformat_minor": 2
}
