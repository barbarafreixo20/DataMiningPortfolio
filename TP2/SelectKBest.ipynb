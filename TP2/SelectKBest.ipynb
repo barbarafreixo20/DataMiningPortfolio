{
 "cells": [
  {
   "attachments": {},
   "cell_type": "markdown",
   "metadata": {},
   "source": [
    "Trabalho realizado por: Bárbara Freixo, PG49169\n",
    "\n",
    "Esta implementação implementa o \"SelectKBest\". A classe é inicializada com uma função de pontuação e um inteiro \"k\". A função de pontuação é utilizada para calcular o valor F e o valor p para cada característica presente num conjunto de dados X e a respetiva resposta y. O método \"fit\" é utilizado para estimar os valores F e p. O método \"transform\" seleciona as k características com o menor valor p e devolve essas características. O método \"fit_transform\" combina os métodos \"fit\" e \"transform\" numa única etapa. A biblioteca \"numpy\" é utilizada para manipulação de arrays e a biblioteca \"sklearn\" é utilizada para importar a função \"f_regression\", que é usada como uma alternativa à class f_regression também já implementada.\n"
   ]
  },
  {
   "cell_type": "code",
   "execution_count": 2,
   "metadata": {},
   "outputs": [],
   "source": [
    "import numpy as np\n",
    "from sklearn.feature_selection import f_regression # Usado como alternativa uma vez que está a dar erro a importação de\n",
    "                                                   # f_regression(data) localizado em f_regression.ipynb\n",
    "\n",
    "class SelectKBest:\n",
    "    def __init__(self, score_func, k):\n",
    "        \"\"\"\n",
    "        Classe para selecionar as k melhores features com base na pontuação \n",
    "        F e no valor p de uma determinada métrica de pontuação (score_func).\n",
    "\n",
    "        \"\"\"\n",
    "        self.score_func = score_func\n",
    "        self.k = k\n",
    "        self.scores_ = None\n",
    "        self.pvalues_ = None\n",
    "        self.selected_features_ = None\n",
    "\n",
    "    def fit(self, X, y):\n",
    "        \"\"\"\n",
    "        Estima o valor F e o valor p de cada feature usando a função de \n",
    "        pontuação fornecida (score_func).\n",
    "\n",
    "        \"\"\"\n",
    "        self.scores_, self.pvalues_ = self.score_func(X, y)\n",
    "        # Seleciona as k features com valor de p mais baixo\n",
    "        self.selected_features_ = np.argsort(self.pvalues_)[:self.k]\n",
    "        return self\n",
    "\n",
    "    def transform(self, X):\n",
    "        \"\"\"\n",
    "        Seleciona as k features com valor de p mais baixo e retorna as\n",
    "        features correspondentes.\n",
    "\n",
    "        \"\"\"\n",
    "        return X[:, self.selected_features_]\n",
    "\n",
    "    def fit_transform(self, X, y):\n",
    "        \"\"\"\n",
    "        Estima o valor F e o valor p de cada feature usando a função de \n",
    "        pontuação fornecida (score_func) e seleciona as k features com valor \n",
    "        de p mais baixo, retornando as features correspondentes.\n",
    "\n",
    "        \"\"\"\n",
    "        self.fit(X, y)\n",
    "        return self.transform(X)"
   ]
  },
  {
   "attachments": {},
   "cell_type": "markdown",
   "metadata": {},
   "source": [
    "# Testes e exemplos para o algoritmo implementado"
   ]
  },
  {
   "attachments": {},
   "cell_type": "markdown",
   "metadata": {},
   "source": [
    "## Exemplo de uso do código"
   ]
  },
  {
   "attachments": {},
   "cell_type": "markdown",
   "metadata": {},
   "source": [
    "Neste exemplo, carregamos o dataset breast_cancer, dividimos os dados em conjuntos de treino e teste e padronizamos os dados. Em seguida, criamos uma instância da classe SelectKBest, passando a função f_regression como métrica de pontuação e seleciona as 10 melhores features. Por fim, verificamos as features selecionadas."
   ]
  },
  {
   "cell_type": "code",
   "execution_count": 6,
   "metadata": {},
   "outputs": [
    {
     "name": "stdout",
     "output_type": "stream",
     "text": [
      "Features selecionadas: ['worst concave points' 'mean concave points' 'worst perimeter'\n",
      " 'worst radius' 'mean perimeter' 'worst area' 'mean radius' 'mean area'\n",
      " 'mean concavity' 'worst concavity']\n"
     ]
    }
   ],
   "source": [
    "import numpy as np\n",
    "from sklearn.datasets import load_breast_cancer\n",
    "from sklearn.feature_selection import f_regression\n",
    "from sklearn.model_selection import train_test_split\n",
    "from sklearn.preprocessing import StandardScaler\n",
    "\n",
    "# Carrega o dataset breast_cancer\n",
    "data = load_breast_cancer()\n",
    "X = data.data\n",
    "y = data.target\n",
    "feature_names = data.feature_names\n",
    "\n",
    "# Divide o dataset em conjuntos de treino e teste\n",
    "X_train, X_test, y_train, y_test = train_test_split(X, y, test_size=0.2, random_state=42)\n",
    "\n",
    "# Padroniza os dados\n",
    "scaler = StandardScaler()\n",
    "X_train_scaled = scaler.fit_transform(X_train)\n",
    "X_test_scaled = scaler.transform(X_test)\n",
    "\n",
    "# Seleciona as k melhores features usando a classe SelectKBest\n",
    "k = 10  # Número de melhores features a selecionar\n",
    "selector = SelectKBest(score_func=f_regression, k=k)\n",
    "X_train_selected = selector.fit_transform(X_train_scaled, y_train)\n",
    "X_test_selected = selector.transform(X_test_scaled)\n",
    "\n",
    "# Verifica as features selecionadas\n",
    "selected_features = selector.selected_features_\n",
    "selected_feature_names = feature_names[selected_features]\n",
    "print(\"Features selecionadas:\", selected_feature_names)\n"
   ]
  },
  {
   "attachments": {},
   "cell_type": "markdown",
   "metadata": {},
   "source": [
    "## Testes \"Unittest\""
   ]
  },
  {
   "attachments": {},
   "cell_type": "markdown",
   "metadata": {},
   "source": [
    "Foi realizado um teste utilizando o unittest para testar a implementação do SelectKBest. Temos então o seguinte teste:"
   ]
  },
  {
   "cell_type": "code",
   "execution_count": 8,
   "metadata": {},
   "outputs": [
    {
     "name": "stderr",
     "output_type": "stream",
     "text": [
      "...\n",
      "----------------------------------------------------------------------\n",
      "Ran 3 tests in 0.009s\n",
      "\n",
      "OK\n"
     ]
    }
   ],
   "source": [
    "import numpy as np\n",
    "from sklearn.datasets import load_iris\n",
    "from sklearn.feature_selection import f_regression\n",
    "import unittest\n",
    "\n",
    "class TestSelectKBest(unittest.TestCase):\n",
    "    def setUp(self):\n",
    "        # Carrega o dataset iris e define as variáveis X e y\n",
    "        self.iris = load_iris()\n",
    "        self.X = self.iris.data\n",
    "        self.y = self.iris.target\n",
    "\n",
    "    def test_fit(self):\n",
    "        # Testa o método fit da classe SelectKBest\n",
    "        selector = SelectKBest(f_regression, k=2)\n",
    "        selector.fit(self.X, self.y)\n",
    "        # Verifica se os atributos scores_, pvalues_ e selected_features_ não são None após a execução do método fit\n",
    "        self.assertIsNotNone(selector.scores_)\n",
    "        self.assertIsNotNone(selector.pvalues_)\n",
    "        self.assertIsNotNone(selector.selected_features_)\n",
    "\n",
    "    def test_transform(self):\n",
    "        # Testa o método transform da classe SelectKBest\n",
    "        selector = SelectKBest(f_regression, k=2)\n",
    "        selector.fit(self.X, self.y)\n",
    "        # Transforma o conjunto de dados usando o método transform\n",
    "        X_transformed = selector.transform(self.X)\n",
    "        # Verifica se o número de features no conjunto transformado é igual a k\n",
    "        self.assertEqual(X_transformed.shape[1], 2)\n",
    "\n",
    "    def test_fit_transform(self):\n",
    "        # Testa o método fit_transform da classe SelectKBest\n",
    "        selector = SelectKBest(f_regression, k=2)\n",
    "        # Transforma o conjunto de dados usando o método fit_transform\n",
    "        X_transformed = selector.fit_transform(self.X, self.y)\n",
    "        # Verifica se o número de features no conjunto transformado é igual a k\n",
    "        self.assertEqual(X_transformed.shape[1], 2)\n",
    "        # Verifica se os atributos scores_, pvalues_ e selected_features_ não são None após a execução do método fit_transform\n",
    "        self.assertIsNotNone(selector.scores_)\n",
    "        self.assertIsNotNone(selector.pvalues_)\n",
    "        self.assertIsNotNone(selector.selected_features_)\n",
    "\n",
    "# Executa os testes unitários\n",
    "if __name__ == '__main__':\n",
    "    unittest.main(argv=['first-arg-is-ignored'], exit=False)"
   ]
  },
  {
   "attachments": {},
   "cell_type": "markdown",
   "metadata": {},
   "source": [
    "Este teste define uma classe de teste chamada TestSelectKBest para testar a classe SelectKBest, que seleciona as k melhores features com base na pontuação F e no valor p de uma determinada métrica de pontuação. O teste é realizado utilizando o dataset iris."
   ]
  }
 ],
 "metadata": {
  "kernelspec": {
   "display_name": "base",
   "language": "python",
   "name": "python3"
  },
  "language_info": {
   "codemirror_mode": {
    "name": "ipython",
    "version": 3
   },
   "file_extension": ".py",
   "mimetype": "text/x-python",
   "name": "python",
   "nbconvert_exporter": "python",
   "pygments_lexer": "ipython3",
   "version": "3.11.2"
  },
  "orig_nbformat": 4
 },
 "nbformat": 4,
 "nbformat_minor": 2
}
